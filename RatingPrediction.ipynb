{
 "cells": [
  {
   "cell_type": "markdown",
   "metadata": {},
   "source": [
    "# Yelp Restaurants Rating Prediction from Reviews"
   ]
  },
  {
   "cell_type": "markdown",
   "metadata": {},
   "source": [
    "## Introduction"
   ]
  },
  {
   "cell_type": "markdown",
   "metadata": {},
   "source": [
    "Yelp is a business directory service and crowd-sourced review forum. Yelp reviews consist of comments and rating levels. However, sometimes the rating levels could be inconsistent with the comments. Maybe Reviewers are hired to give good rating levels, or reviewers are not giving reviews seriously. Our model will predict ratings based on review text.\n",
    "\n",
    "This model can be applied on the following scenarios:\n",
    "\n",
    "Detect inconsistency between ratings and review text, find invalid reviews.\n",
    "If there ratings are missing, we can generate ratings from text so that this review could be used in the future.\n",
    "This notebook will cover the following contents:"
   ]
  },
  {
   "cell_type": "markdown",
   "metadata": {},
   "source": [
    "### Table of Contents"
   ]
  },
  {
   "cell_type": "markdown",
   "metadata": {},
   "source": [
    "* [Data Scraper](#Data%20Scraper)\n",
    "* [Model Training](#Model-Training)\n",
    "* [Data Analysis](#Data-Analysis)\n",
    "* [Conclusion](#Conclusion)"
   ]
  },
  {
   "cell_type": "markdown",
   "metadata": {},
   "source": [
    "## Data Scraper"
   ]
  },
  {
   "cell_type": "markdown",
   "metadata": {},
   "source": [
    "In this part, we use BeautifulSoup to parse the html information from the webpages, then we use Yelp Developers API to extract restaurant reviews. We extract around 80K reviews from restaurant located in 4 districts(Shadyside, Point Breeze, Downtown and Strip district) in Pittsburgh. We then combine the 4 sets of reviews together into a single csv file which will be used as a raw dataset for the model training in next part."
   ]
  },
  {
   "cell_type": "markdown",
   "metadata": {},
   "source": [
    "### 1. Install and import packages"
   ]
  },
  {
   "cell_type": "markdown",
   "metadata": {},
   "source": [
    "We use BeautifulSoup to parse the html pages on Yelp website. The other packages are assumed to be installed on the machine."
   ]
  },
  {
   "cell_type": "code",
   "execution_count": 1,
   "metadata": {},
   "outputs": [],
   "source": [
    "# setup library imports\n",
    "import io, time, json\n",
    "import requests\n",
    "from pathlib import Path\n",
    "from bs4 import BeautifulSoup\n",
    "import math"
   ]
  },
  {
   "cell_type": "markdown",
   "metadata": {},
   "source": [
    "### 2. Get web page html"
   ]
  },
  {
   "cell_type": "code",
   "execution_count": 2,
   "metadata": {},
   "outputs": [],
   "source": [
    "def retrieve_html(url):\n",
    "    \"\"\"\n",
    "    Return the raw HTML at the specified URL.\n",
    "\n",
    "    Args:\n",
    "        url (string): \n",
    "\n",
    "    Returns:\n",
    "        status_code (integer):\n",
    "        raw_html (string): the raw HTML content of the response, properly encoded according to the HTTP headers.\n",
    "    \"\"\"\n",
    "    response = requests.get(url)\n",
    "    return response.status_code, response.text"
   ]
  },
  {
   "cell_type": "markdown",
   "metadata": {},
   "source": [
    "### 3. Read yelp API key"
   ]
  },
  {
   "cell_type": "code",
   "execution_count": 3,
   "metadata": {},
   "outputs": [],
   "source": [
    "def read_api_key(filepath=\"yelp_api_key.txt\"):\n",
    "    \"\"\"\n",
    "    Read the Yelp API Key from file.\n",
    "    \n",
    "    Args:\n",
    "        filepath (string): File containing API Key\n",
    "    Returns:\n",
    "        api_key (string): The API Key\n",
    "    \"\"\"\n",
    "    \n",
    "    return Path(filepath).read_text().strip()"
   ]
  },
  {
   "cell_type": "markdown",
   "metadata": {},
   "source": [
    "### 4. Get yelp business Info"
   ]
  },
  {
   "cell_type": "code",
   "execution_count": null,
   "metadata": {},
   "outputs": [],
   "source": [
    "def yelp_search(api_key, query):\n",
    "    \"\"\"\n",
    "    Make an authenticated request to the Yelp API.\n",
    "\n",
    "    Args:\n",
    "        query (string): Search term\n",
    "\n",
    "    Returns:\n",
    "        total (integer): total number of businesses on Yelp corresponding to the query\n",
    "        businesses (list): list of dicts representing each business\n",
    "    \"\"\"\n",
    "    url = \"https://api.yelp.com/v3/businesses/search\"\n",
    "    headers = {\"Authorization\" : \"Bearer %s\" % (api_key)}\n",
    "    params = {\"location\" : query}\n",
    "    response = requests.get(url, params = params, headers = headers)\n",
    "    result = json.loads(response.text)\n",
    "    return result[\"total\"], result[\"businesses\"]"
   ]
  },
  {
   "cell_type": "markdown",
   "metadata": {},
   "source": [
    "### 5. Get all restaurants business information"
   ]
  },
  {
   "cell_type": "markdown",
   "metadata": {},
   "source": [
    "The important module in this part is collecting all the restaurants based on the filter we set. Since the API has a limit of accessing frequenccy, we should scrap the results with short intervals and page by page."
   ]
  },
  {
   "cell_type": "code",
   "execution_count": null,
   "metadata": {},
   "outputs": [],
   "source": [
    "def all_restaurants(api_key, query):\n",
    "    \"\"\"\n",
    "    Retrieve ALL the restaurants on Yelp for a given query.\n",
    "\n",
    "    Args:\n",
    "        query (string): Search term\n",
    "\n",
    "    Returns:\n",
    "        results (list): list of dicts representing each business\n",
    "    \"\"\"\n",
    "    url = \"https://api.yelp.com/v3/businesses/search\"\n",
    "    headers = {\"Authorization\" : \"Bearer %s\" % (api_key)}\n",
    "    offset = 0\n",
    "    params = {\"location\" : query, \"categories\": \"restaurants\", \"limit\": 40}\n",
    "    response = requests.get(url, params = params, headers = headers)\n",
    "    result = json.loads(response.text)\n",
    "    total = result[\"total\"]\n",
    "    final = []\n",
    "    \n",
    "    while offset<total:\n",
    "        params[\"offset\"] = offset\n",
    "        response = requests.get(url, params = params, headers = headers)\n",
    "        offset += 40\n",
    "        result = json.loads(response.text)\n",
    "        final += result[\"businesses\"]\n",
    "        time.sleep(0.2)\n",
    "    return final"
   ]
  },
  {
   "cell_type": "markdown",
   "metadata": {},
   "source": [
    "### 6. Get urls from business information"
   ]
  },
  {
   "cell_type": "code",
   "execution_count": null,
   "metadata": {},
   "outputs": [],
   "source": [
    "def parse_api_response(data):\n",
    "    \"\"\"\n",
    "    Parse Yelp API results to extract restaurant URLs.\n",
    "    \n",
    "    Args:\n",
    "        data (string): String of properly formatted JSON.\n",
    "\n",
    "    Returns:\n",
    "        (list): list of URLs as strings from the input JSON.\n",
    "    \"\"\"\n",
    "    \n",
    "    return [ele[\"url\"].split(\"?\")[0] for ele in data]"
   ]
  },
  {
   "cell_type": "markdown",
   "metadata": {},
   "source": [
    "### 7. Parse html page"
   ]
  },
  {
   "cell_type": "code",
   "execution_count": null,
   "metadata": {},
   "outputs": [],
   "source": [
    "def parse_page(html):\n",
    "\n",
    "    soup = BeautifulSoup(html, \"html.parser\")\n",
    "    \n",
    "    result = []\n",
    "    reviews = soup.find_all(\"script\",attrs={\"type\":\"application/ld+json\"})[0]\n",
    "    reviews = json.loads(reviews.contents[0])\n",
    "    reviews_count = reviews[\"aggregateRating\"][\"reviewCount\"]\n",
    "    reviews = reviews[\"review\"]\n",
    "    for review in reviews:\n",
    "        tmp = {}\n",
    "        tmp[\"author\"] = review[\"author\"]\n",
    "        tmp[\"rating\"] = float(review[\"reviewRating\"][\"ratingValue\"])\n",
    "        tmp[\"date\"] = review[\"datePublished\"]\n",
    "        tmp[\"description\"] = review[\"description\"]\n",
    "        result.append(tmp)\n",
    "         \n",
    "    return result, math.ceil(reviews_count/20)"
   ]
  },
  {
   "cell_type": "markdown",
   "metadata": {},
   "source": [
    "### 8. Extract yelp review from html pages"
   ]
  },
  {
   "cell_type": "code",
   "execution_count": null,
   "metadata": {},
   "outputs": [],
   "source": [
    "def extract_reviews(url):\n",
    "    \"\"\"\n",
    "    Retrieve ALL of the reviews for a single restaurant on Yelp.\n",
    "\n",
    "    Parameters:\n",
    "        url (string): Yelp URL corresponding to the restaurant of interest.\n",
    "\n",
    "    Returns:\n",
    "        reviews (list): list of dictionaries containing extracted review information\n",
    "    \"\"\"\n",
    "    tmp, pages = parse_page(retrieve_html(url)[1])\n",
    "    res = []\n",
    "    for i in range(pages):\n",
    "        print(f\"parsing - {i} page\")\n",
    "        if i>10:\n",
    "            break\n",
    "        if i>0:\n",
    "            current, tmp_count = parse_page(retrieve_html(url+\"?start=\"+str(20*i))[1])\n",
    "        else:\n",
    "            current = tmp\n",
    "        res+=current[:]\n",
    "    \n",
    "    return res"
   ]
  },
  {
   "cell_type": "markdown",
   "metadata": {},
   "source": [
    "### 9. Start scrap yelp review data"
   ]
  },
  {
   "cell_type": "code",
   "execution_count": null,
   "metadata": {},
   "outputs": [],
   "source": [
    "api_key = read_api_key()\n",
    "places = ['Shadyside, Pittsburgh','Downtown, Pittsburgh', 'Point Breeze, Pittsburgh']\n",
    "\n",
    "for place in places:\n",
    "    print(f\"Search restaurants in {place} :\")\n",
    "    businesses = all_restaurants(api_key, place)\n",
    "    urls = set(parse_api_response(businesses))\n",
    "    \n",
    "    print(\"Start extract reviews:\")\n",
    "    with open(place+\".review\",\"w\") as fd:\n",
    "        for url in urls:\n",
    "            print(url)\n",
    "            try:\n",
    "                reviews = extract_reviews(url)\n",
    "                reviews = [json.dumps(rev) for rev in reviews]\n",
    "                print(f\"reviews number: {len(reviews)}, distinct_reviews: {len(set(reviews))}\")\n",
    "                for review in reviews:\n",
    "                    fd.write(review+\"\\n\")\n",
    "            except Exception:\n",
    "                print(\"Running into error!\")\n",
    "                print(Exception)\n",
    "                continue"
   ]
  },
  {
   "cell_type": "markdown",
   "metadata": {},
   "source": [
    "### 10. Transform review data file from json to csv"
   ]
  },
  {
   "cell_type": "code",
   "execution_count": null,
   "metadata": {},
   "outputs": [],
   "source": [
    "import csv\n",
    "places = ['Shadyside, Pittsburgh','Downtown, Pittsburgh', 'Point Breeze, Pittsburgh']\n",
    "file_names = [place+\".review\" for place in places]\n",
    "\n",
    "entire_review_data = []\n",
    "\n",
    "for file_name in file_names:\n",
    "    with open(file_name, \"r\") as fd:\n",
    "        line = fd.readline()\n",
    "        while line :\n",
    "            review_dict = json.loads(line)\n",
    "            text, rating = review_dict[\"description\"], review_dict[\"rating\"]\n",
    "            text = text.replace(\"\\\"\",\"\\'\").replace(\"\\n\", \"\")\n",
    "            entire_review_data.append([rating, text])\n",
    "            line = fd.readline()\n",
    "\n",
    "def write_csv_file(file_name, review_data):\n",
    "    with open(file_name, \"w\") as fd:\n",
    "        fd.write(\"rating,text\\n\")\n",
    "        for rating, text in review_data:\n",
    "            fd.write(\"\\\"\"+str(rating)+\"\\\"\"+\",\"+\"\\\"\"+text+\"\\\"\\n\")"
   ]
  },
  {
   "cell_type": "markdown",
   "metadata": {},
   "source": [
    "### 11. Split dataset to train, dev and test"
   ]
  },
  {
   "cell_type": "code",
   "execution_count": null,
   "metadata": {},
   "outputs": [],
   "source": [
    "import numpy as np\n",
    "from sklearn.model_selection import train_test_split\n",
    "\n",
    "train_data, test_data = train_test_split(entire_review_data, test_size=0.3, random_state=15618)\n",
    "\n",
    "write_csv_file(\"Pittsburgh_review.train\", train_data)\n",
    "write_csv_file(\"Pittsburgh_review.test\", test_data)"
   ]
  },
  {
   "cell_type": "markdown",
   "metadata": {},
   "source": [
    "### 12. References"
   ]
  },
  {
   "cell_type": "markdown",
   "metadata": {},
   "source": [
    "In this part we develop our data scraper based on the yelp scraper in homework1."
   ]
  },
  {
   "cell_type": "markdown",
   "metadata": {},
   "source": [
    "## Model Training"
   ]
  },
  {
   "cell_type": "markdown",
   "metadata": {},
   "source": [
    "In this notebook, we use Pytorch to build a simple bidirectional LSTM network and train it to predict the review ratings given the content. We first tokenize our input review data from the CSV files and feed the processed data into the neural network. Then we train our model for several epochs, and finally we get the output predictions from the learnt model on the test dataset. "
   ]
  },
  {
   "cell_type": "markdown",
   "metadata": {},
   "source": [
    "### 1. Install and import packages"
   ]
  },
  {
   "cell_type": "markdown",
   "metadata": {},
   "source": [
    "We will use mainly Pytorch and Pandas in this task. The installations are quite simple so we just assume that they are installed already on your machine."
   ]
  },
  {
   "cell_type": "code",
   "execution_count": 2,
   "metadata": {},
   "outputs": [],
   "source": [
    "import torch\n",
    "from torchtext import data\n",
    "import pandas as pd\n",
    "from pandas import DataFrame\n",
    "import random\n",
    "import matplotlib.pyplot as plt\n",
    "import numpy as np"
   ]
  },
  {
   "cell_type": "markdown",
   "metadata": {},
   "source": [
    "The torchtext contains useful dataset modules which help us define how to tokenize and organize the input data. We use spacy as the tokenizer and we convert the label data to long float type. The detailed usage of torchtext dataset can be found [here](https://torchtext.readthedocs.io/en/latest/data.html)."
   ]
  },
  {
   "cell_type": "code",
   "execution_count": 3,
   "metadata": {
    "colab_type": "text",
    "id": "m5igjmSXuZg5"
   },
   "outputs": [],
   "source": [
    "SEED = 15618\n",
    "\n",
    "torch.manual_seed(SEED)\n",
    "torch.backends.cudnn.deterministic = True\n",
    "\n",
    "TEXT = data.Field(tokenize = \"spacy\")\n",
    "LABEL = data.LabelField(dtype = torch.long)"
   ]
  },
  {
   "cell_type": "markdown",
   "metadata": {},
   "source": [
    "### 2. Prepare datasets and iterator"
   ]
  },
  {
   "cell_type": "markdown",
   "metadata": {},
   "source": [
    "The second step of is to define the datasets. Since we have already stored the review and rating records in the csv files, we simply use Pandas to read the data into memory and then convert the data to well-organized datasets. Once we create the datasets, we define the iterators which will yield data batches to our model during training and testing."
   ]
  },
  {
   "cell_type": "code",
   "execution_count": 4,
   "metadata": {},
   "outputs": [
    {
     "name": "stdout",
     "output_type": "stream",
     "text": [
      "[\"Food was delicious. I highly recommend it. Iskender and the kebabs were tasty. For an appetizer I recommend sigara borek, and for dessert we had kazandibi. As a native of Turkey, I can verify this food is authentic- perhaps even as good as my mother's. The service was impeccable- they were flexible with our orders and allowed us to combine parts of two entrees into one.This is a must-go restaurant if you are in Oakland.\"] [5.0]\n",
      "[\"I've eaten at this restaurant a lot over the years, and I love it. In the past year or two I mostly phone in an order from the Southside where I work, drive to Oakland to pick it up, then drive home to Mt. Washington. I think the fact that I go out of my way to get take-out says a lot about how much I like it.My favorite dishes are the Rangoon Night Market Noodles, Pad Thai, and the appetizer of mussels in a really tasty lemongrass broth. I rarely get anything else, but when I go with friends they do, and they usually seem to like what they get as well.\"] [5.0]\n"
     ]
    }
   ],
   "source": [
    "train_file = \"Pittsburgh_review.train\"\n",
    "test_file = \"Pittsburgh_review.test\"\n",
    "\n",
    "train_data, train_labels = pd.read_csv(train_file)[\"text\"].tolist(), pd.read_csv(train_file)[\"rating\"].tolist()\n",
    "print(train_data[:1], train_labels[:1])\n",
    "\n",
    "test_data, test_labels = pd.read_csv(test_file)[\"text\"].tolist(), pd.read_csv(test_file)[\"rating\"].tolist()\n",
    "print(test_data[:1], test_labels[:1])\n",
    "\n"
   ]
  },
  {
   "cell_type": "markdown",
   "metadata": {},
   "source": [
    "We use torchtext's tabular dataset to store the processed data. We create 2 datasets for training and testing separately. Each dataset has 2 columns denoting the review content and the rating score."
   ]
  },
  {
   "cell_type": "code",
   "execution_count": 5,
   "metadata": {},
   "outputs": [
    {
     "name": "stdout",
     "output_type": "stream",
     "text": [
      "Train\t Len:\t 65753 {'text': ['Food', 'was', 'delicious', '.', 'I', 'highly', 'recommend', 'it', '.', 'Iskender', 'and', 'the', 'kebabs', 'were', 'tasty', '.', 'For', 'an', 'appetizer', 'I', 'recommend', 'sigara', 'borek', ',', 'and', 'for', 'dessert', 'we', 'had', 'kazandibi', '.', 'As', 'a', 'native', 'of', 'Turkey', ',', 'I', 'can', 'verify', 'this', 'food', 'is', 'authentic-', 'perhaps', 'even', 'as', 'good', 'as', 'my', 'mother', \"'s\", '.', 'The', 'service', 'was', 'impeccable-', 'they', 'were', 'flexible', 'with', 'our', 'orders', 'and', 'allowed', 'us', 'to', 'combine', 'parts', 'of', 'two', 'entrees', 'into', 'one', '.', 'This', 'is', 'a', 'must', '-', 'go', 'restaurant', 'if', 'you', 'are', 'in', 'Oakland', '.'], 'label': '5.0'}\n",
      "Test\t Len:\t 28181 {'text': ['I', \"'ve\", 'eaten', 'at', 'this', 'restaurant', 'a', 'lot', 'over', 'the', 'years', ',', 'and', 'I', 'love', 'it', '.', 'In', 'the', 'past', 'year', 'or', 'two', 'I', 'mostly', 'phone', 'in', 'an', 'order', 'from', 'the', 'Southside', 'where', 'I', 'work', ',', 'drive', 'to', 'Oakland', 'to', 'pick', 'it', 'up', ',', 'then', 'drive', 'home', 'to', 'Mt.', 'Washington', '.', 'I', 'think', 'the', 'fact', 'that', 'I', 'go', 'out', 'of', 'my', 'way', 'to', 'get', 'take', '-', 'out', 'says', 'a', 'lot', 'about', 'how', 'much', 'I', 'like', 'it', '.', 'My', 'favorite', 'dishes', 'are', 'the', 'Rangoon', 'Night', 'Market', 'Noodles', ',', 'Pad', 'Thai', ',', 'and', 'the', 'appetizer', 'of', 'mussels', 'in', 'a', 'really', 'tasty', 'lemongrass', 'broth', '.', 'I', 'rarely', 'get', 'anything', 'else', ',', 'but', 'when', 'I', 'go', 'with', 'friends', 'they', 'do', ',', 'and', 'they', 'usually', 'seem', 'to', 'like', 'what', 'they', 'get', 'as', 'well', '.'], 'label': '5.0'}\n"
     ]
    }
   ],
   "source": [
    "TRAIN_CSV = \"train_data.csv\"\n",
    "TEST_CSV = \"test_data.csv\"\n",
    "\n",
    "TRAIN_DATA = {\"text\":train_data,\"label\":train_labels}\n",
    "TEST_DATA = {\"text\":test_data,\"label\":test_labels}\n",
    "\n",
    "df_train = DataFrame(TRAIN_DATA,columns = [\"text\",\"label\"])\n",
    "df_train.to_csv(TRAIN_CSV)\n",
    "\n",
    "df_test = DataFrame(TEST_DATA,columns = [\"text\", \"label\"])\n",
    "df_test.to_csv(TEST_CSV)\n",
    "\n",
    "train_dataset = data.TabularDataset(path = TRAIN_CSV,format = \"csv\",fields = [(\"id\",None),(\"text\",TEXT),(\"label\",LABEL)],skip_header = True)\n",
    "test_dataset = data.TabularDataset(path = TEST_CSV,format = \"csv\",fields = [(\"id\",None),(\"text\",TEXT),(\"label\",LABEL)],skip_header = True)\n",
    "\n",
    "print(\"Train\\t\",\"Len:\\t\",len(train_dataset),vars(train_dataset.examples[0]))\n",
    "print(\"Test\\t\" ,\"Len:\\t\",len(test_dataset) ,vars(test_dataset.examples[0]))\n"
   ]
  },
  {
   "cell_type": "markdown",
   "metadata": {},
   "source": [
    "The datasets we have now are still raw texts, which could not be recognized and utilized by our model. The tokenizer we defined above will do this for us. We use Glove as our tokenizer vector and build the vocabulary."
   ]
  },
  {
   "cell_type": "code",
   "execution_count": 6,
   "metadata": {},
   "outputs": [
    {
     "name": "stdout",
     "output_type": "stream",
     "text": [
      "TEXT: 5002 LABEL: 5\n",
      "[('.', 461347), ('the', 314004), (',', 275848), ('and', 255500), ('I', 214470), ('a', 192399), ('to', 154368), ('was', 147317), ('of', 114586), ('is', 97687), ('it', 94400), (' ', 93496), ('for', 84739), ('The', 78618), ('in', 77689), ('!', 71255), ('with', 66798), ('that', 62219), ('but', 59109), ('you', 50463)]\n",
      "['<unk>', '<pad>', '.', 'the', ',', 'and', 'I', 'a', 'to', 'was']\n",
      "defaultdict(None, {'5.0': 0, '4.0': 1, '3.0': 2, '1.0': 3, '2.0': 4})\n"
     ]
    }
   ],
   "source": [
    "MAX_VOCAB_SIZE = 5000\n",
    "\n",
    "TEXT.build_vocab(train_dataset,max_size=MAX_VOCAB_SIZE,vectors=\"glove.6B.200d\", unk_init=torch.Tensor.normal_)\n",
    "LABEL.build_vocab(train_dataset)\n",
    "\n",
    "print(\"TEXT:\",len(TEXT.vocab),\"LABEL:\",len(LABEL.vocab))\n",
    "print(TEXT.vocab.freqs.most_common(20))\n",
    "print(TEXT.vocab.itos[:10])\n",
    "print(LABEL.vocab.stoi)"
   ]
  },
  {
   "cell_type": "markdown",
   "metadata": {},
   "source": [
    "Now we can finally define the data iterator with all the subparts we define above. Notice that we define the batch size quite small since our machine cannot take into larger batches into memory. You can change this variable according to your machine type. "
   ]
  },
  {
   "cell_type": "code",
   "execution_count": 7,
   "metadata": {},
   "outputs": [],
   "source": [
    "BATCH_SIZE = 64\n",
    "device = torch.device('cuda' if torch.cuda.is_available() else 'cpu')\n",
    "\n",
    "train_iterator, valid_iterator = data.BucketIterator.splits(\n",
    "        (train_dataset, test_dataset),\n",
    "        sort_within_batch=True, \n",
    "        sort_key=lambda x: len(x.text),\n",
    "        batch_size=BATCH_SIZE,\n",
    "        device=device)"
   ]
  },
  {
   "cell_type": "markdown",
   "metadata": {},
   "source": [
    "### 3. Model Design"
   ]
  },
  {
   "cell_type": "markdown",
   "metadata": {},
   "source": [
    "Many deep learning NLP and machine translation models are involved with recurrent neural network(RNN) structures. It's mainly because languages are constituency, the words are dependent with each other and rich of context information, which reflects sentiment. And RNN was born with the structure that can memory the sequential information and perform well on relevent tasks.\n",
    "\n",
    "The ratings of the reviews can somewhat indicate the attitude or emotion of the review contents. So we team think that an RNN-based model can do well on this classification task. Also the LSTM network is an improved version from original RNN which can deal with the long history memory problem. We implement a one-layer bidirectional LSTM network. "
   ]
  },
  {
   "cell_type": "code",
   "execution_count": 8,
   "metadata": {},
   "outputs": [],
   "source": [
    "import torch.nn as nn\n",
    "\n",
    "DROP = 0.1\n",
    "class RNN(nn.Module):\n",
    "    def __init__(self, input_dim, embedding_dim, hidden_dim, output_dim):       \n",
    "        super().__init__()\n",
    "        \n",
    "        self.embedding = nn.Embedding(input_dim, embedding_dim)  \n",
    "        self.rnn = nn.LSTM(embedding_dim,hidden_dim,2,dropout = DROP,bidirectional = True)\n",
    "        self.fc = nn.Linear(hidden_dim*2, output_dim)\n",
    "        self.dropout = torch.nn.Dropout(DROP)\n",
    "        \n",
    "    def forward(self, text):\n",
    "      \n",
    "        embedded = self.embedding(text)\n",
    "        output, hidden = self.rnn(embedded)\n",
    "#         res = self.dropout(torch.sum(hidden[0],0))\n",
    "#         print(output.size())\n",
    "        res = self.dropout(torch.mean(output,0))\n",
    "        return self.fc(res)"
   ]
  },
  {
   "cell_type": "markdown",
   "metadata": {},
   "source": [
    "The parameters are defined below. The input dimension of the layers are equal to our vocabulary size(total number of tokens). Other parameters can be defined manually."
   ]
  },
  {
   "cell_type": "code",
   "execution_count": 9,
   "metadata": {},
   "outputs": [],
   "source": [
    "INPUT_DIM = len(TEXT.vocab)\n",
    "EMBEDDING_DIM = 256\n",
    "HIDDEN_DIM = 256\n",
    "OUTPUT_DIM = 5\n",
    "\n",
    "model = RNN(INPUT_DIM, EMBEDDING_DIM, HIDDEN_DIM, OUTPUT_DIM)"
   ]
  },
  {
   "cell_type": "code",
   "execution_count": 10,
   "metadata": {},
   "outputs": [
    {
     "name": "stdout",
     "output_type": "stream",
     "text": [
      "The model has 3,912,709 trainable parameters\n"
     ]
    }
   ],
   "source": [
    "def count_parameters(model):\n",
    "    return sum(p.numel() for p in model.parameters() if p.requires_grad)\n",
    "\n",
    "print(f'The model has {count_parameters(model):,} trainable parameters')\n"
   ]
  },
  {
   "cell_type": "markdown",
   "metadata": {},
   "source": [
    "The model should update its parameters according to an objective function. The loss function should be defined and the model can perform the back propagation based on that value."
   ]
  },
  {
   "cell_type": "code",
   "execution_count": 11,
   "metadata": {},
   "outputs": [],
   "source": [
    "import torch.optim as optim\n",
    "optimizer = torch.optim.Adam(model.parameters(), lr=1e-4)\n",
    "# optimizer = optim.SGD(model.parameters(), lr=1e-2)"
   ]
  },
  {
   "cell_type": "code",
   "execution_count": 12,
   "metadata": {},
   "outputs": [],
   "source": [
    "criterion = torch.nn.CrossEntropyLoss()"
   ]
  },
  {
   "cell_type": "markdown",
   "metadata": {},
   "source": [
    "We train our model on an NVIDIA P100 GPU but the device can be a CPU as well."
   ]
  },
  {
   "cell_type": "code",
   "execution_count": 13,
   "metadata": {},
   "outputs": [],
   "source": [
    "model = model.to(device)\n",
    "criterion = criterion.to(device)"
   ]
  },
  {
   "cell_type": "code",
   "execution_count": 14,
   "metadata": {},
   "outputs": [],
   "source": [
    "def calculate_accuracy(preds, y):\n",
    "    \"\"\"\n",
    "    Returns accuracy per batch\n",
    "    \"\"\"\n",
    "    values, indices = torch.max(preds, 1)\n",
    "    res = indices.cpu().detach().numpy()\n",
    "    correct = (y.cpu().detach().numpy()==res)\n",
    "    acc = sum(correct) / len(correct)\n",
    "    return acc, np.copy(res), np.copy(y.cpu().detach().numpy())\n"
   ]
  },
  {
   "cell_type": "markdown",
   "metadata": {},
   "source": [
    "The training function. We store the accuracy and loss value for every epoch."
   ]
  },
  {
   "cell_type": "code",
   "execution_count": 15,
   "metadata": {},
   "outputs": [],
   "source": [
    "def train(model, iterator, optimizer, criterion):\n",
    "    \n",
    "    epoch_loss = 0\n",
    "    epoch_acc = 0\n",
    "    \n",
    "    model.train()\n",
    "    \n",
    "    for batch in iterator: \n",
    "        optimizer.zero_grad()\n",
    "        predictions = model(batch.text).squeeze(1)\n",
    "        loss = criterion(predictions, batch.label)\n",
    "        acc, _, _ = calculate_accuracy(predictions, batch.label)\n",
    "        loss.backward()\n",
    "        optimizer.step()\n",
    "\n",
    "        epoch_loss += loss.item()\n",
    "        epoch_acc += acc.item()\n",
    "    return epoch_loss / len(iterator), epoch_acc / len(iterator)"
   ]
  },
  {
   "cell_type": "code",
   "execution_count": 16,
   "metadata": {},
   "outputs": [],
   "source": [
    "def evaluate(model, iterator, criterion):\n",
    "    \n",
    "    epoch_loss = 0\n",
    "    epoch_acc = 0\n",
    "    \n",
    "    model.eval()\n",
    "    \n",
    "    with torch.no_grad():\n",
    "        for batch in iterator:\n",
    "            predictions = model(batch.text).squeeze(1)\n",
    "            loss = criterion(predictions, batch.label)\n",
    "            acc, pred_res, label_res = calculate_accuracy(predictions, batch.label)\n",
    "            with open(\"predict.out\", \"w\") as fd:\n",
    "                fd.write(\"Predictions, Labels\\n\")\n",
    "                for curr_pred, curr_label in zip(pred_res, label_res):\n",
    "                    fd.write(f\"{curr_pred},{curr_label}\\n\")\n",
    "            epoch_loss += loss.item()\n",
    "            epoch_acc += acc.item()\n",
    "    return epoch_loss / len(iterator), epoch_acc / len(iterator)\n"
   ]
  },
  {
   "cell_type": "code",
   "execution_count": 17,
   "metadata": {},
   "outputs": [],
   "source": [
    "import time\n",
    "\n",
    "def epoch_time(start_time, end_time):\n",
    "    elapsed_time = end_time - start_time\n",
    "    elapsed_mins = int(elapsed_time / 60)\n",
    "    elapsed_secs = int(elapsed_time - (elapsed_mins * 60))\n",
    "    return elapsed_mins, elapsed_secs"
   ]
  },
  {
   "cell_type": "markdown",
   "metadata": {},
   "source": [
    "We train this model with 20 epochs."
   ]
  },
  {
   "cell_type": "code",
   "execution_count": 18,
   "metadata": {},
   "outputs": [
    {
     "name": "stdout",
     "output_type": "stream",
     "text": [
      "Epoch: 01 | Epoch Time: 1m 9s\n",
      "\tTrain Loss: 1.091 | Train Acc: 52.69%\n",
      "\t Val. Loss: 0.961 |  Val. Acc: 57.88%\n",
      "Epoch: 02 | Epoch Time: 1m 8s\n",
      "\tTrain Loss: 0.889 | Train Acc: 61.04%\n",
      "\t Val. Loss: 0.895 |  Val. Acc: 60.22%\n",
      "Epoch: 03 | Epoch Time: 1m 8s\n",
      "\tTrain Loss: 0.822 | Train Acc: 64.00%\n",
      "\t Val. Loss: 0.842 |  Val. Acc: 63.17%\n",
      "Epoch: 04 | Epoch Time: 1m 8s\n",
      "\tTrain Loss: 0.773 | Train Acc: 66.52%\n",
      "\t Val. Loss: 0.805 |  Val. Acc: 64.35%\n",
      "Epoch: 05 | Epoch Time: 1m 8s\n",
      "\tTrain Loss: 0.726 | Train Acc: 68.34%\n",
      "\t Val. Loss: 0.786 |  Val. Acc: 66.03%\n",
      "Epoch: 06 | Epoch Time: 1m 9s\n",
      "\tTrain Loss: 0.691 | Train Acc: 70.10%\n",
      "\t Val. Loss: 0.785 |  Val. Acc: 66.34%\n",
      "Epoch: 07 | Epoch Time: 1m 9s\n",
      "\tTrain Loss: 0.652 | Train Acc: 72.02%\n",
      "\t Val. Loss: 0.835 |  Val. Acc: 64.22%\n",
      "Epoch: 08 | Epoch Time: 1m 8s\n",
      "\tTrain Loss: 0.615 | Train Acc: 74.04%\n",
      "\t Val. Loss: 0.784 |  Val. Acc: 67.21%\n",
      "Epoch: 09 | Epoch Time: 1m 8s\n",
      "\tTrain Loss: 0.575 | Train Acc: 75.91%\n",
      "\t Val. Loss: 0.810 |  Val. Acc: 67.16%\n",
      "Epoch: 10 | Epoch Time: 1m 8s\n",
      "\tTrain Loss: 0.542 | Train Acc: 77.63%\n",
      "\t Val. Loss: 0.794 |  Val. Acc: 68.66%\n",
      "Epoch: 11 | Epoch Time: 1m 9s\n",
      "\tTrain Loss: 0.503 | Train Acc: 79.61%\n",
      "\t Val. Loss: 0.889 |  Val. Acc: 66.27%\n",
      "Epoch: 12 | Epoch Time: 1m 9s\n",
      "\tTrain Loss: 0.477 | Train Acc: 80.74%\n",
      "\t Val. Loss: 0.824 |  Val. Acc: 69.62%\n",
      "Epoch: 13 | Epoch Time: 1m 8s\n",
      "\tTrain Loss: 0.436 | Train Acc: 82.73%\n",
      "\t Val. Loss: 0.969 |  Val. Acc: 66.14%\n",
      "Epoch: 14 | Epoch Time: 1m 9s\n",
      "\tTrain Loss: 0.402 | Train Acc: 84.27%\n",
      "\t Val. Loss: 0.851 |  Val. Acc: 69.71%\n",
      "Epoch: 15 | Epoch Time: 1m 8s\n",
      "\tTrain Loss: 0.368 | Train Acc: 85.95%\n",
      "\t Val. Loss: 0.933 |  Val. Acc: 69.99%\n",
      "Epoch: 16 | Epoch Time: 1m 9s\n",
      "\tTrain Loss: 0.339 | Train Acc: 87.24%\n",
      "\t Val. Loss: 0.896 |  Val. Acc: 71.20%\n",
      "Epoch: 17 | Epoch Time: 1m 9s\n",
      "\tTrain Loss: 0.479 | Train Acc: 82.23%\n",
      "\t Val. Loss: 0.886 |  Val. Acc: 69.36%\n",
      "Epoch: 18 | Epoch Time: 1m 8s\n",
      "\tTrain Loss: 0.320 | Train Acc: 87.98%\n",
      "\t Val. Loss: 0.975 |  Val. Acc: 70.82%\n",
      "Epoch: 19 | Epoch Time: 1m 9s\n",
      "\tTrain Loss: 0.256 | Train Acc: 90.67%\n",
      "\t Val. Loss: 1.010 |  Val. Acc: 71.42%\n",
      "Epoch: 20 | Epoch Time: 1m 9s\n",
      "\tTrain Loss: 0.240 | Train Acc: 91.29%\n",
      "\t Val. Loss: 1.067 |  Val. Acc: 71.73%\n"
     ]
    }
   ],
   "source": [
    "N_EPOCHS = 20\n",
    "\n",
    "best_valid_loss = float('inf')\n",
    "train_losses, valid_losses = [], []\n",
    "train_accs, valid_accs = [], []\n",
    "\n",
    "for epoch in range(N_EPOCHS):\n",
    "\n",
    "    start_time = time.time()\n",
    "    \n",
    "    train_loss, train_acc = train(model, train_iterator, optimizer, criterion)\n",
    "    valid_loss, valid_acc = evaluate(model, valid_iterator, criterion)\n",
    "    \n",
    "    train_losses.append(train_loss)\n",
    "    valid_losses.append(valid_loss)\n",
    "    train_accs.append(train_acc)\n",
    "    valid_accs.append(valid_acc)\n",
    "    \n",
    "    end_time = time.time()\n",
    "\n",
    "    epoch_mins, epoch_secs = epoch_time(start_time, end_time)\n",
    "    \n",
    "    if valid_loss < best_valid_loss:\n",
    "        best_valid_loss = valid_loss\n",
    "        \n",
    "    \n",
    "    print(f'Epoch: {epoch+1:02} | Epoch Time: {epoch_mins}m {epoch_secs}s')\n",
    "    print(f'\\tTrain Loss: {train_loss:.3f} | Train Acc: {train_acc*100:.2f}%')\n",
    "    print(f'\\t Val. Loss: {valid_loss:.3f} |  Val. Acc: {valid_acc*100:.2f}%')\n"
   ]
  },
  {
   "cell_type": "markdown",
   "metadata": {},
   "source": [
    "We can plot the accuracy and loss through epochs."
   ]
  },
  {
   "cell_type": "code",
   "execution_count": 19,
   "metadata": {},
   "outputs": [
    {
     "data": {
      "image/png": "[encoded data removed]",
      "text/plain": [
       "<Figure size 432x288 with 1 Axes>"
      ]
     },
     "metadata": {
      "needs_background": "light"
     },
     "output_type": "display_data"
    },
    {
     "data": {
      "image/png": "[encoded data removed]",
      "text/plain": [
       "<Figure size 432x288 with 1 Axes>"
      ]
     },
     "metadata": {
      "needs_background": "light"
     },
     "output_type": "display_data"
    }
   ],
   "source": [
    "x = np.arange(20)\n",
    "plt.xlabel(\"Epochs\")\n",
    "plt.ylabel(\"Accuracy\")\n",
    "plt.plot(x, train_accs, label=\"train\")\n",
    "plt.plot(x, valid_accs, label=\"validate\")\n",
    "plt.legend()\n",
    "plt.show()\n",
    "plt.xlabel(\"Epochs\")\n",
    "plt.ylabel(\"Loss\")\n",
    "plt.plot(x, train_losses, label=\"train\")\n",
    "plt.plot(x, valid_losses, label=\"validate\")\n",
    "plt.legend()\n",
    "plt.show()"
   ]
  },
  {
   "cell_type": "markdown",
   "metadata": {},
   "source": [
    "From the above diagrams, we can tell that the accuracy can be about 90% for training dataset, 70% for validation dataset."
   ]
  },
  {
   "cell_type": "markdown",
   "metadata": {},
   "source": [
    "### 4.References\n",
    "\n",
    "Natural Language Process final homework (haotian2 was TA for 11611 NLP course and modify the LSTM model from sentiment analysis work to current 5 classes rating prediction task. \n"
   ]
  },
  {
   "cell_type": "markdown",
   "metadata": {},
   "source": [
    "## Data Analysis"
   ]
  },
  {
   "cell_type": "markdown",
   "metadata": {},
   "source": [
    "In this part we will do data analysis for the actual reviews and our prediction. We plot the distribution of different rating classes to find the difference between true labels and prediction. And we use wordcloud to show most frequent words in different rating classes. Finally, we will use our model for anomaly detection, find inconsistent rating and text reviews."
   ]
  },
  {
   "cell_type": "markdown",
   "metadata": {},
   "source": [
    "### Rating Class Counts"
   ]
  },
  {
   "cell_type": "markdown",
   "metadata": {},
   "source": [
    "In this part we will try to plot the distribution of each rating classes in the real reviews and in our predicted reviews."
   ]
  },
  {
   "cell_type": "code",
   "execution_count": 7,
   "metadata": {},
   "outputs": [],
   "source": [
    "import pandas as pd\n",
    "import numpy as np"
   ]
  },
  {
   "cell_type": "code",
   "execution_count": 8,
   "metadata": {},
   "outputs": [],
   "source": [
    "# Plot bar chart with number of reviews in different rating classes\n",
    "# data: list[list[text], list[rating_class]]\n",
    "def rating_count_plot_bar(df):\n",
    "    ratings = list(df[\"label\"])\n",
    "    rating_classes, counts = np.unique(ratings, return_counts=True)\n",
    "    df = pd.DataFrame({'Ratings': rating_classes, 'Counts':counts})\n",
    "    ax = df.plot.bar(x='Ratings', y='Counts', rot=0)"
   ]
  },
  {
   "cell_type": "code",
   "execution_count": 9,
   "metadata": {},
   "outputs": [],
   "source": [
    "def rating_count_plot_pie(df):\n",
    "    ratings = list(df[\"label\"])\n",
    "    rating_classes, counts = np.unique(ratings, return_counts=True)\n",
    "    dff = pd.DataFrame({'Ratings': list(counts)}, index=list(rating_classes))\n",
    "    plot = dff.plot.pie(y='Ratings')"
   ]
  },
  {
   "cell_type": "markdown",
   "metadata": {},
   "source": [
    "First I will plot the result of actual test dataset."
   ]
  },
  {
   "cell_type": "code",
   "execution_count": null,
   "metadata": {},
   "outputs": [],
   "source": [
    "df = pd.read_csv(\"./test_data.csv\")"
   ]
  },
  {
   "cell_type": "code",
   "execution_count": null,
   "metadata": {},
   "outputs": [],
   "source": [
    "rating_count_plot_bar(df)"
   ]
  },
  {
   "cell_type": "code",
   "execution_count": null,
   "metadata": {},
   "outputs": [],
   "source": [
    "rating_count_plot_pie(df)"
   ]
  },
  {
   "cell_type": "markdown",
   "metadata": {},
   "source": [
    "Then we will plot counts in each rating class with our predction:"
   ]
  },
  {
   "cell_type": "code",
   "execution_count": null,
   "metadata": {},
   "outputs": [],
   "source": [
    "pred_df = pd.read_csv(\"./test_data.csv\")"
   ]
  },
  {
   "cell_type": "code",
   "execution_count": null,
   "metadata": {},
   "outputs": [],
   "source": [
    "rating_count_plot_bar(pred_df)"
   ]
  },
  {
   "cell_type": "code",
   "execution_count": null,
   "metadata": {},
   "outputs": [],
   "source": [
    "rating_count_plot_pie(pred_df)"
   ]
  },
  {
   "cell_type": "markdown",
   "metadata": {},
   "source": [
    "### Top Words in Different Classes"
   ]
  },
  {
   "cell_type": "markdown",
   "metadata": {},
   "source": [
    "In this part we will plot most frequent words in different rating classes."
   ]
  },
  {
   "cell_type": "code",
   "execution_count": null,
   "metadata": {},
   "outputs": [],
   "source": [
    "from wordcloud import WordCloud, STOPWORDS\n",
    "import matplotlib.pyplot as plt "
   ]
  },
  {
   "cell_type": "code",
   "execution_count": null,
   "metadata": {},
   "outputs": [],
   "source": [
    "words_1 = \"\"\n",
    "words_2 = \"\"\n",
    "words_3 = \"\"\n",
    "words_4 = \"\"\n",
    "words_5 = \"\"\n",
    "for index, row in df.iterrows():\n",
    "    if row['label'] == 1.0:\n",
    "        words_1 += row['text']\n",
    "    elif row['label'] == 2.0:\n",
    "        words_2 += row['text']\n",
    "    elif row['label'] == 3.0:\n",
    "        words_3 += row['text']\n",
    "    elif row['label'] == 4.0:\n",
    "        words_4 += row['text']\n",
    "    elif row['label'] == 5.0:\n",
    "        words_5 += row['text']"
   ]
  },
  {
   "cell_type": "code",
   "execution_count": null,
   "metadata": {},
   "outputs": [],
   "source": [
    "wordcloud = WordCloud(width = 800, height = 800, \n",
    "                background_color ='black', \n",
    "                stopwords = STOPWORDS, \n",
    "                min_font_size = 10).generate(words_1) \n",
    "plt.figure(figsize = (8, 8), facecolor = None) \n",
    "plt.imshow(wordcloud) \n",
    "plt.axis(\"off\") \n",
    "plt.tight_layout(pad = 0) \n",
    "  \n",
    "plt.show() "
   ]
  },
  {
   "cell_type": "code",
   "execution_count": null,
   "metadata": {},
   "outputs": [],
   "source": []
  },
  {
   "cell_type": "code",
   "execution_count": null,
   "metadata": {},
   "outputs": [],
   "source": []
  },
  {
   "cell_type": "code",
   "execution_count": null,
   "metadata": {},
   "outputs": [],
   "source": []
  }
 ],
 "metadata": {
  "accelerator": "GPU",
  "colab": {
   "collapsed_sections": [],
   "name": "NLP_hw7.ipynb",
   "provenance": []
  },
  "kernelspec": {
   "display_name": "Python 3",
   "language": "python",
   "name": "python3"
  },
  "language_info": {
   "codemirror_mode": {
    "name": "ipython",
    "version": 3
   },
   "file_extension": ".py",
   "mimetype": "text/x-python",
   "name": "python",
   "nbconvert_exporter": "python",
   "pygments_lexer": "ipython3",
   "version": "3.6.8"
  }
 },
 "nbformat": 4,
 "nbformat_minor": 1
}