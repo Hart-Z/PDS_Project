{
 "cells": [
  {
   "cell_type": "code",
   "execution_count": 1,
   "metadata": {},
   "outputs": [],
   "source": [
    "# setup library imports\n",
    "import io, time, json\n",
    "import requests\n",
    "from pathlib import Path\n",
    "from bs4 import BeautifulSoup\n",
    "import math"
   ]
  },
  {
   "cell_type": "markdown",
   "metadata": {},
   "source": [
    "## Handle Basic HTTP Requests\n"
   ]
  },
  {
   "cell_type": "code",
   "execution_count": 2,
   "metadata": {},
   "outputs": [],
   "source": [
    "\n",
    "def retrieve_html(url):\n",
    "    \"\"\"\n",
    "    Return the raw HTML at the specified URL.\n",
    "\n",
    "    Args:\n",
    "        url (string): \n",
    "\n",
    "    Returns:\n",
    "        status_code (integer):\n",
    "        raw_html (string): the raw HTML content of the response, properly encoded according to the HTTP headers.\n",
    "    \"\"\"\n",
    "    response = requests.get(url)\n",
    "    return response.status_code, response.text\n"
   ]
  },
  {
   "cell_type": "markdown",
   "metadata": {},
   "source": [
    "## Read yelp API key"
   ]
  },
  {
   "cell_type": "code",
   "execution_count": 3,
   "metadata": {},
   "outputs": [],
   "source": [
    "def read_api_key(filepath=\"yelp_api_key.txt\"):\n",
    "    \"\"\"\n",
    "    Read the Yelp API Key from file.\n",
    "    \n",
    "    Args:\n",
    "        filepath (string): File containing API Key\n",
    "    Returns:\n",
    "        api_key (string): The API Key\n",
    "    \"\"\"\n",
    "    \n",
    "    # Feel free to modify this function if you are storing the API Key differently\n",
    "    return Path(filepath).read_text().strip()"
   ]
  },
  {
   "cell_type": "markdown",
   "metadata": {},
   "source": [
    "## Get yelp business Info"
   ]
  },
  {
   "cell_type": "code",
   "execution_count": 4,
   "metadata": {},
   "outputs": [],
   "source": [
    "def yelp_search(api_key, query):\n",
    "    \"\"\"\n",
    "    Make an authenticated request to the Yelp API.\n",
    "\n",
    "    Args:\n",
    "        query (string): Search term\n",
    "\n",
    "    Returns:\n",
    "        total (integer): total number of businesses on Yelp corresponding to the query\n",
    "        businesses (list): list of dicts representing each business\n",
    "    \"\"\"\n",
    "    url = \"https://api.yelp.com/v3/businesses/search\"\n",
    "    headers = {\"Authorization\" : \"Bearer %s\" % (api_key)}\n",
    "    params = {\"location\" : query}\n",
    "    response = requests.get(url, params = params, headers = headers)\n",
    "    result = json.loads(response.text)\n",
    "    return result[\"total\"], result[\"businesses\"]\n"
   ]
  },
  {
   "cell_type": "markdown",
   "metadata": {},
   "source": [
    "## Get all urls"
   ]
  },
  {
   "cell_type": "code",
   "execution_count": 5,
   "metadata": {},
   "outputs": [],
   "source": [
    "def all_restaurants(api_key, query):\n",
    "    \"\"\"\n",
    "    Retrieve ALL the restaurants on Yelp for a given query.\n",
    "\n",
    "    Args:\n",
    "        query (string): Search term\n",
    "\n",
    "    Returns:\n",
    "        results (list): list of dicts representing each business\n",
    "    \"\"\"\n",
    "    url = \"https://api.yelp.com/v3/businesses/search\"\n",
    "    headers = {\"Authorization\" : \"Bearer %s\" % (api_key)}\n",
    "    offset = 0\n",
    "    params = {\"location\" : query, \"categories\": \"restaurants\", \"limit\": 40}\n",
    "    response = requests.get(url, params = params, headers = headers)\n",
    "    result = json.loads(response.text)\n",
    "    total = result[\"total\"]\n",
    "    final = []\n",
    "    \n",
    "    while offset<total:\n",
    "        params[\"offset\"] = offset\n",
    "        response = requests.get(url, params = params, headers = headers)\n",
    "        offset += 40\n",
    "        result = json.loads(response.text)\n",
    "        final += result[\"businesses\"]\n",
    "        time.sleep(0.2)\n",
    "    return final"
   ]
  },
  {
   "cell_type": "markdown",
   "metadata": {},
   "source": [
    "---"
   ]
  },
  {
   "cell_type": "code",
   "execution_count": 6,
   "metadata": {},
   "outputs": [],
   "source": [
    "def parse_api_response(data):\n",
    "    \"\"\"\n",
    "    Parse Yelp API results to extract restaurant URLs.\n",
    "    \n",
    "    Args:\n",
    "        data (string): String of properly formatted JSON.\n",
    "\n",
    "    Returns:\n",
    "        (list): list of URLs as strings from the input JSON.\n",
    "    \"\"\"\n",
    "    \n",
    "    return [ele[\"url\"] for ele in data]\n"
   ]
  },
  {
   "cell_type": "code",
   "execution_count": 7,
   "metadata": {},
   "outputs": [],
   "source": [
    "\n",
    "\n",
    "def parse_page(html):\n",
    "\n",
    "    soup = BeautifulSoup(html, \"html.parser\")\n",
    "    \n",
    "    result = []\n",
    "    reviews = soup.find_all(\"script\",attrs={\"type\":\"application/ld+json\"})[0]\n",
    "    reviews = json.loads(reviews.contents[0])\n",
    "    reviews_count = reviews[\"aggregateRating\"][\"reviewCount\"]\n",
    "    reviews = reviews[\"review\"]\n",
    "    for review in reviews:\n",
    "        tmp = {}\n",
    "        tmp[\"author\"] = review[\"author\"]\n",
    "        tmp[\"rating\"] = float(review[\"reviewRating\"][\"ratingValue\"])\n",
    "        tmp[\"date\"] = review[\"datePublished\"]\n",
    "        tmp[\"description\"] = review[\"description\"]\n",
    "        result.append(tmp)\n",
    "         \n",
    "    return result, math.ceil(reviews_count/20)"
   ]
  },
  {
   "cell_type": "code",
   "execution_count": 8,
   "metadata": {},
   "outputs": [],
   "source": [
    "\n",
    "def extract_reviews(url):\n",
    "    \"\"\"\n",
    "    Retrieve ALL of the reviews for a single restaurant on Yelp.\n",
    "\n",
    "    Parameters:\n",
    "        url (string): Yelp URL corresponding to the restaurant of interest.\n",
    "\n",
    "    Returns:\n",
    "        reviews (list): list of dictionaries containing extracted review information\n",
    "    \"\"\"\n",
    "    tmp, pages = parse_page(retrieve_html(url)[1])\n",
    "    res = []\n",
    "    for i in range(pages):\n",
    "        print(f\"parsing - {i} page\")\n",
    "        if i>50:\n",
    "            break\n",
    "        if i>0:\n",
    "            current, tmp_count = parse_page(retrieve_html(url+\"?start=\"+str(20*i))[1])\n",
    "        else:\n",
    "            current = tmp\n",
    "        res+=current\n",
    "    \n",
    "    return res\n"
   ]
  },
  {
   "cell_type": "code",
   "execution_count": null,
   "metadata": {},
   "outputs": [
    {
     "name": "stdout",
     "output_type": "stream",
     "text": [
      "Search restaurants in Shadyside, Pittsburgh :\n",
      "Start extract reviews:\n",
      "parsing - 0 page\n",
      "parsing - 1 page\n",
      "parsing - 2 page\n",
      "parsing - 3 page\n",
      "parsing - 4 page\n",
      "parsing - 5 page\n",
      "parsing - 6 page\n",
      "parsing - 7 page\n",
      "parsing - 8 page\n",
      "parsing - 9 page\n",
      "parsing - 10 page\n",
      "parsing - 11 page\n",
      "parsing - 12 page\n",
      "parsing - 13 page\n",
      "parsing - 14 page\n",
      "parsing - 15 page\n",
      "parsing - 16 page\n"
     ]
    }
   ],
   "source": [
    "api_key = read_api_key()\n",
    "places = ['Shadyside, Pittsburgh']\n",
    "\n",
    "for place in places:\n",
    "    print(f\"Search restaurants in {place} :\")\n",
    "    businesses = all_restaurants(api_key, place)\n",
    "    urls = parse_api_response(businesses)\n",
    "\n",
    "    print(\"Start extract reviews:\")\n",
    "    with open(place+\".review\",\"w\") as fd:\n",
    "        for url in urls:\n",
    "            reviews = extract_reviews(url)\n",
    "            print(f\"reviews number: {len(reviews)}\")\n",
    "            for review in reviews:\n",
    "                fd.write(json.dumps(review)+\"\\n\")\n"
   ]
  },
  {
   "cell_type": "code",
   "execution_count": null,
   "metadata": {},
   "outputs": [],
   "source": []
  }
 ],
 "metadata": {
  "anaconda-cloud": {},
  "kernelspec": {
   "display_name": "Python 3",
   "language": "python",
   "name": "python3"
  },
  "language_info": {
   "codemirror_mode": {
    "name": "ipython",
    "version": 3
   },
   "file_extension": ".py",
   "mimetype": "text/x-python",
   "name": "python",
   "nbconvert_exporter": "python",
   "pygments_lexer": "ipython3",
   "version": "3.6.8"
  }
 },
 "nbformat": 4,
 "nbformat_minor": 4
}
